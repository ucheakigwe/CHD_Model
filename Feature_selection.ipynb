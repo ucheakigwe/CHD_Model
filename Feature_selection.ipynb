{
  "nbformat": 4,
  "nbformat_minor": 0,
  "metadata": {
    "colab": {
      "provenance": []
    },
    "kernelspec": {
      "name": "python3",
      "display_name": "Python 3"
    },
    "language_info": {
      "name": "python"
    }
  },
  "cells": [
    {
      "cell_type": "code",
      "execution_count": null,
      "metadata": {
        "colab": {
          "base_uri": "https://localhost:8080/"
        },
        "id": "wQj2VHfkNfV2",
        "outputId": "dd655ec8-b59a-48a8-b719-c7eaae2acfc5"
      },
      "outputs": [
        {
          "output_type": "stream",
          "name": "stdout",
          "text": [
            "      Feature  Importance\n",
            "23   CVDINFR4    0.358873\n",
            "24   CVDCRHD4    0.349807\n",
            "22   CHOLMED3    0.014121\n",
            "10    GENHLTH    0.011930\n",
            "102    _AGE80    0.009009\n",
            "..        ...         ...\n",
            "5    PVTRESD3    0.000034\n",
            "1    CTELNUM1    0.000000\n",
            "3     CADULT1    0.000000\n",
            "2    CELLFON5    0.000000\n",
            "0    SAFETIME    0.000000\n",
            "\n",
            "[140 rows x 2 columns]\n"
          ]
        }
      ],
      "source": [
        "import pandas as pd\n",
        "from sklearn.ensemble import RandomForestClassifier\n",
        "from sklearn.model_selection import train_test_split\n",
        "\n",
        "# Load your dataset into a DataFrame\n",
        "data = pd.read_csv('/content/cleaned.csv')\n",
        "\n",
        "# Separate the target variable from the features\n",
        "X = data.drop('_MICHD', axis=1)\n",
        "y = data['_MICHD']\n",
        "\n",
        "# Split the data into training and testing sets\n",
        "X_train, X_test, y_train, y_test = train_test_split(X, y, test_size=0.1, random_state=42)\n",
        "\n",
        "# Initialize the Random Forest classifier\n",
        "rf_classifier = RandomForestClassifier(n_estimators=100, random_state=42)\n",
        "\n",
        "# Fit the classifier to the training data\n",
        "rf_classifier.fit(X_train, y_train)\n",
        "\n",
        "# Get feature importances\n",
        "feature_importances = rf_classifier.feature_importances_\n",
        "\n",
        "# Create a DataFrame to display feature importances\n",
        "feature_importance_df = pd.DataFrame({'Feature': X_train.columns, 'Importance': feature_importances})\n",
        "\n",
        "# Sort the DataFrame by importance in descending order\n",
        "feature_importance_df = feature_importance_df.sort_values(by='Importance', ascending=False)\n",
        "\n",
        "# Print or display the feature importance DataFrame\n",
        "print(feature_importance_df)"
      ]
    },
    {
      "cell_type": "code",
      "source": [
        "# Sort the DataFrame by importance in descending order\n",
        "feature_importance_df = feature_importance_df.sort_values(by='Importance', ascending=False)\n",
        "\n",
        "# Select the top 10 features with the highest importance scores\n",
        "top_10_features = feature_importance_df['Feature'][:10]\n",
        "\n",
        "# Print or display the top 10 features and their importance scores\n",
        "print(top_10_features)"
      ],
      "metadata": {
        "colab": {
          "base_uri": "https://localhost:8080/"
        },
        "id": "Rft1b0YcPRMc",
        "outputId": "92640bf6-6e40-4b63-9e9c-66457b356d1b"
      },
      "execution_count": null,
      "outputs": [
        {
          "output_type": "stream",
          "name": "stdout",
          "text": [
            "23     CVDINFR4\n",
            "24     CVDCRHD4\n",
            "22     CHOLMED3\n",
            "10      GENHLTH\n",
            "102      _AGE80\n",
            "25     CVDSTRK3\n",
            "77      _RFHLTH\n",
            "19      BPHIGH6\n",
            "83     _RFHYPE6\n",
            "100    _AGEG5YR\n",
            "Name: Feature, dtype: object\n"
          ]
        }
      ]
    },
    {
      "cell_type": "code",
      "source": [
        "# Create a new DataFrame with the top 10 features and the target column\n",
        "selected_dataset = X_train[top_10_features].copy()\n",
        "selected_dataset['_MICHD'] = y_train\n",
        "\n",
        "# Save the selected dataset to a CSV file\n",
        "selected_dataset.to_csv('selected_dataset_10.csv', index=False)"
      ],
      "metadata": {
        "id": "rUSRUH3zPcUz"
      },
      "execution_count": null,
      "outputs": []
    },
    {
      "cell_type": "code",
      "source": [
        "import pandas as pd\n",
        "df = pd.read_csv('/content/selected_dataset_10.csv')\n",
        "df.info()"
      ],
      "metadata": {
        "colab": {
          "base_uri": "https://localhost:8080/"
        },
        "id": "MqaZgt94Ppvh",
        "outputId": "5dc2c981-f8e6-4cb2-bbc4-d5c401e396a6"
      },
      "execution_count": null,
      "outputs": [
        {
          "output_type": "stream",
          "name": "stdout",
          "text": [
            "<class 'pandas.core.frame.DataFrame'>\n",
            "RangeIndex: 394823 entries, 0 to 394822\n",
            "Data columns (total 11 columns):\n",
            " #   Column    Non-Null Count   Dtype  \n",
            "---  ------    --------------   -----  \n",
            " 0   CVDINFR4  394823 non-null  float64\n",
            " 1   CVDCRHD4  394823 non-null  float64\n",
            " 2   CHOLMED3  394823 non-null  float64\n",
            " 3   GENHLTH   394823 non-null  float64\n",
            " 4   _AGE80    394823 non-null  float64\n",
            " 5   CVDSTRK3  394823 non-null  float64\n",
            " 6   _RFHLTH   394823 non-null  float64\n",
            " 7   BPHIGH6   394823 non-null  float64\n",
            " 8   _RFHYPE6  394823 non-null  float64\n",
            " 9   _AGEG5YR  394823 non-null  float64\n",
            " 10  _MICHD    394823 non-null  float64\n",
            "dtypes: float64(11)\n",
            "memory usage: 33.1 MB\n"
          ]
        }
      ]
    }
  ]
}